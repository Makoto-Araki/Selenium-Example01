{
 "cells": [
  {
   "cell_type": "markdown",
   "metadata": {},
   "source": [
    "# NEC(6701)株価情報\n",
    "NEC(6701)の [**HP**](https://finance.yahoo.co.jp/quote/6701.T/history) を操作して最終ページまで閲覧する\n",
    "<br>\n",
    "## アプリ実行直後\n",
    "![画像1](./Selenium-Exercises1-1.png)\n",
    "<br>\n",
    "## 画面スクロールしてボタン「次へ」を押下して画面遷移を繰り返す\n",
    "![画像2](./Selenium-Exercises1-2.png)\n",
    "<br>\n",
    "## 最終ページまで画面遷移を行う\n",
    "![画像3](./Selenium-Exercises1-3.png)"
   ]
  },
  {
   "cell_type": "code",
   "execution_count": 20,
   "metadata": {},
   "outputs": [],
   "source": [
    "# ライブラリのインポート\n",
    "from selenium import webdriver\n",
    "from time import sleep\n",
    "\n",
    "# ドライバのロード\n",
    "path = 'C:\\\\Users\\\\Owner\\\\chromedriver'\n",
    "driver = webdriver.Chrome(path)\n",
    "\n",
    "# 指定サイトのオープン\n",
    "url = 'https://finance.yahoo.co.jp/quote/6701.T/history'\n",
    "driver.get(url)\n",
    "\n",
    "# 画面操作開始\n",
    "try:\n",
    "    # ボタンが押下可能な限りループ処理\n",
    "    while True:\n",
    "        # 画面全高(100%)の25%程までスクロール\n",
    "        driver.execute_script('window.scrollTo(0, document.body.scrollHeight * 0.25);')\n",
    "        # 3秒間休止\n",
    "        sleep(3)\n",
    "        # ボタン取得\n",
    "        btn = driver.find_element_by_xpath('//*[@id=\"pagerbtm\"]/ul/li[7]/button')\n",
    "        # 最終ページでボタンが押下不可か判定\n",
    "        if btn.get_attribute('disabled') != None:\n",
    "            break\n",
    "        else:\n",
    "            btn.click()\n",
    "except Exception:\n",
    "    print('例外発生')"
   ]
  }
 ],
 "metadata": {
  "kernelspec": {
   "display_name": "Python 3",
   "language": "python",
   "name": "python3"
  },
  "language_info": {
   "codemirror_mode": {
    "name": "ipython",
    "version": 3
   },
   "file_extension": ".py",
   "mimetype": "text/x-python",
   "name": "python",
   "nbconvert_exporter": "python",
   "pygments_lexer": "ipython3",
   "version": "3.8.3"
  }
 },
 "nbformat": 4,
 "nbformat_minor": 4
}
