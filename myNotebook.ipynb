{
 "cells": [
  {
   "cell_type": "code",
   "execution_count": 21,
   "metadata": {},
   "outputs": [],
   "source": [
    "# ライブラリのインポート\n",
    "from selenium import webdriver\n",
    "from time import sleep\n",
    "\n",
    "# ドライバのロード\n",
    "path = 'C:\\\\Users\\\\Owner\\\\chromedriver'\n",
    "driver = webdriver.Chrome(path)\n",
    "\n",
    "# 指定サイトのオープン\n",
    "url = 'https://finance.yahoo.co.jp/quote/6701.T/history'\n",
    "driver.get(url)\n",
    "\n",
    "# 画面操作開始\n",
    "try:\n",
    "    # ボタンが押下可能な限りループ処理\n",
    "    while True:\n",
    "        # 画面全高(100%)の25%程までスクロール\n",
    "        driver.execute_script('window.scrollTo(0, document.body.scrollHeight * 0.25);')\n",
    "        # 3秒間休止\n",
    "        sleep(3)\n",
    "        # ボタン取得\n",
    "        btn = driver.find_element_by_xpath('//*[@id=\"pagerbtm\"]/ul/li[7]/button')\n",
    "        # 最終ページでボタンが押下不可か判定\n",
    "        if btn.get_attribute('disabled') != None:\n",
    "            break\n",
    "        else:\n",
    "            btn.click()\n",
    "except Exception:\n",
    "    print('例外発生')"
   ]
  },
  {
   "cell_type": "code",
   "execution_count": null,
   "metadata": {},
   "outputs": [],
   "source": []
  }
 ],
 "metadata": {
  "kernelspec": {
   "display_name": "Python 3",
   "language": "python",
   "name": "python3"
  },
  "language_info": {
   "codemirror_mode": {
    "name": "ipython",
    "version": 3
   },
   "file_extension": ".py",
   "mimetype": "text/x-python",
   "name": "python",
   "nbconvert_exporter": "python",
   "pygments_lexer": "ipython3",
   "version": "3.8.3"
  }
 },
 "nbformat": 4,
 "nbformat_minor": 4
}
